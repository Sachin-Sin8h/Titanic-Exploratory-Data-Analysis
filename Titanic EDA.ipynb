{
 "cells": [
  {
   "cell_type": "markdown",
   "id": "5f58d0d7",
   "metadata": {},
   "source": [
    "# Exploratory Data Analysis - Titanic Dataset\n",
    "## Objective: To find what pieces of data or patterns are highly associated with survival"
   ]
  },
  {
   "cell_type": "markdown",
   "id": "1a08991d",
   "metadata": {},
   "source": [
    "### Importing dataset "
   ]
  },
  {
   "cell_type": "code",
   "execution_count": 3,
   "id": "64a9fa46",
   "metadata": {},
   "outputs": [],
   "source": [
    "df <- read.csv(\"titanic_full.csv\",stringsAsFactors=TRUE,na.strings=c(\"\",\"NA\"))"
   ]
  },
  {
   "cell_type": "code",
   "execution_count": 4,
   "id": "fc7a762b",
   "metadata": {},
   "outputs": [
    {
     "name": "stdout",
     "output_type": "stream",
     "text": [
      "'data.frame':\t1309 obs. of  21 variables:\n",
      " $ PassengerId: int  1 2 3 4 5 6 7 8 9 10 ...\n",
      " $ Survived   : int  0 1 1 1 0 0 0 0 1 1 ...\n",
      " $ Pclass     : int  3 1 3 1 3 3 1 3 3 2 ...\n",
      " $ Name       : Factor w/ 1307 levels \"Abbing, Mr. Anthony\",..: 156 287 531 430 23 826 775 922 613 855 ...\n",
      " $ Sex        : Factor w/ 2 levels \"female\",\"male\": 2 1 1 1 2 2 2 2 1 1 ...\n",
      " $ Age        : num  22 38 26 35 35 NA 54 2 27 14 ...\n",
      " $ SibSp      : int  1 1 0 1 0 0 0 3 0 1 ...\n",
      " $ Parch      : int  0 0 0 0 0 0 0 1 2 0 ...\n",
      " $ Ticket     : Factor w/ 929 levels \"110152\",\"110413\",..: 721 817 915 66 650 374 110 542 478 175 ...\n",
      " $ Fare       : num  7.25 71.28 7.92 53.1 8.05 ...\n",
      " $ Cabin      : Factor w/ 186 levels \"A10\",\"A11\",\"A14\",..: NA 107 NA 71 NA NA 164 NA NA NA ...\n",
      " $ Embarked   : Factor w/ 3 levels \"C\",\"Q\",\"S\": 3 1 3 3 3 2 3 3 3 1 ...\n",
      " $ WikiId     : int  691 90 865 127 627 785 200 1108 902 520 ...\n",
      " $ Name_wiki  : Factor w/ 1303 levels \"Ã–dahl, Mr. Nils Martin\",..: 195 321 547 452 26 373 788 929 631 869 ...\n",
      " $ Age_wiki   : num  22 35 26 35 35 22 54 2 26 14 ...\n",
      " $ Hometown   : Factor w/ 566 levels \"Ã–rebro, Sweden\",..: 77 364 266 441 61 128 149 66 464 563 ...\n",
      " $ Boarded    : Factor w/ 4 levels \"Belfast\",\"Cherbourg\",..: 4 2 4 4 4 3 4 4 4 2 ...\n",
      " $ Destination: Factor w/ 291 levels \"Aberdeen, South Dakota, US\",..: 216 186 185 241 185 185 72 56 249 59 ...\n",
      " $ Lifeboat   : Factor w/ 24 levels \"?\",\"1\",\"10\",\"11\",..: NA 14 8 24 NA NA NA NA 9 1 ...\n",
      " $ Body       : Factor w/ 135 levels \"#\",\"####\",\"?\",..: NA 2 2 2 2 2 42 4 4 4 ...\n",
      " $ Class      : int  3 1 3 1 3 3 1 3 3 2 ...\n"
     ]
    }
   ],
   "source": [
    "str(df)"
   ]
  },
  {
   "cell_type": "code",
   "execution_count": 5,
   "id": "85931358",
   "metadata": {},
   "outputs": [
    {
     "data": {
      "text/html": [
       "<table>\n",
       "<thead><tr><th scope=col>PassengerId</th><th scope=col>Survived</th><th scope=col>Pclass</th><th scope=col>Name</th><th scope=col>Sex</th><th scope=col>Age</th><th scope=col>SibSp</th><th scope=col>Parch</th><th scope=col>Ticket</th><th scope=col>Fare</th><th scope=col>...</th><th scope=col>Embarked</th><th scope=col>WikiId</th><th scope=col>Name_wiki</th><th scope=col>Age_wiki</th><th scope=col>Hometown</th><th scope=col>Boarded</th><th scope=col>Destination</th><th scope=col>Lifeboat</th><th scope=col>Body</th><th scope=col>Class</th></tr></thead>\n",
       "<tbody>\n",
       "\t<tr><td>1                                                  </td><td>0                                                  </td><td>3                                                  </td><td>Braund, Mr. Owen Harris                            </td><td>male                                               </td><td>22                                                 </td><td>1                                                  </td><td>0                                                  </td><td>A/5 21171                                          </td><td> 7.2500                                            </td><td>...                                                </td><td>S                                                  </td><td>691                                                </td><td>Braund, Mr. Owen Harris                            </td><td>22                                                 </td><td>Bridgerule, Devon, England                         </td><td>Southampton                                        </td><td>Qu'Appelle Valley, Saskatchewan, Canada            </td><td>NA                                                 </td><td>NA                                                 </td><td>3                                                  </td></tr>\n",
       "\t<tr><td>2                                                  </td><td>1                                                  </td><td>1                                                  </td><td>Cumings, Mrs. John Bradley (Florence Briggs Thayer)</td><td>female                                             </td><td>38                                                 </td><td>1                                                  </td><td>0                                                  </td><td>PC 17599                                           </td><td>71.2833                                            </td><td>...                                                </td><td>C                                                  </td><td> 90                                                </td><td>Cumings, Mrs. Florence Briggs (nÃ©e Thayer)        </td><td>35                                                 </td><td>New York, New York, US                             </td><td>Cherbourg                                          </td><td>New York, New York, US                             </td><td>4                                                  </td><td>####                                               </td><td>1                                                  </td></tr>\n",
       "\t<tr><td>3                                                  </td><td>1                                                  </td><td>3                                                  </td><td>Heikkinen, Miss. Laina                             </td><td>female                                             </td><td>26                                                 </td><td>0                                                  </td><td>0                                                  </td><td>STON/O2. 3101282                                   </td><td> 7.9250                                            </td><td>...                                                </td><td>S                                                  </td><td>865                                                </td><td>Heikkinen, Miss Laina                              </td><td>26                                                 </td><td>JyvÃ¤skylÃ¤, Finland                               </td><td>Southampton                                        </td><td>New York City                                      </td><td>14?                                                </td><td>####                                               </td><td>3                                                  </td></tr>\n",
       "\t<tr><td>4                                                  </td><td>1                                                  </td><td>1                                                  </td><td>Futrelle, Mrs. Jacques Heath (Lily May Peel)       </td><td>female                                             </td><td>35                                                 </td><td>1                                                  </td><td>0                                                  </td><td>113803                                             </td><td>53.1000                                            </td><td>...                                                </td><td>S                                                  </td><td>127                                                </td><td>Futrelle, Mrs. Lily May (nÃ©e Peel)                </td><td>35                                                 </td><td>Scituate, Massachusetts, US                        </td><td>Southampton                                        </td><td>Scituate, Massachusetts, US                        </td><td>D                                                  </td><td>####                                               </td><td>1                                                  </td></tr>\n",
       "\t<tr><td>5                                                  </td><td>0                                                  </td><td>3                                                  </td><td>Allen, Mr. William Henry                           </td><td>male                                               </td><td>35                                                 </td><td>0                                                  </td><td>0                                                  </td><td>373450                                             </td><td> 8.0500                                            </td><td>...                                                </td><td>S                                                  </td><td>627                                                </td><td>Allen, Mr. William Henry                           </td><td>35                                                 </td><td>Birmingham, West Midlands, England                 </td><td>Southampton                                        </td><td>New York City                                      </td><td>NA                                                 </td><td>####                                               </td><td>3                                                  </td></tr>\n",
       "\t<tr><td>6                                                  </td><td>0                                                  </td><td>3                                                  </td><td>Moran, Mr. James                                   </td><td>male                                               </td><td>NA                                                 </td><td>0                                                  </td><td>0                                                  </td><td>330877                                             </td><td> 8.4583                                            </td><td>...                                                </td><td>Q                                                  </td><td>785                                                </td><td>Doherty, Mr. William John (aka \"James Moran\")      </td><td>22                                                 </td><td>Cork, Ireland                                      </td><td>Queenstown                                         </td><td>New York City                                      </td><td>NA                                                 </td><td>####                                               </td><td>3                                                  </td></tr>\n",
       "</tbody>\n",
       "</table>\n"
      ],
      "text/latex": [
       "\\begin{tabular}{r|lllllllllllllllllllll}\n",
       " PassengerId & Survived & Pclass & Name & Sex & Age & SibSp & Parch & Ticket & Fare & ... & Embarked & WikiId & Name\\_wiki & Age\\_wiki & Hometown & Boarded & Destination & Lifeboat & Body & Class\\\\\n",
       "\\hline\n",
       "\t 1                                                   & 0                                                   & 3                                                   & Braund, Mr. Owen Harris                             & male                                                & 22                                                  & 1                                                   & 0                                                   & A/5 21171                                           &  7.2500                                             & ...                                                 & S                                                   & 691                                                 & Braund, Mr. Owen Harris                             & 22                                                  & Bridgerule, Devon, England                          & Southampton                                         & Qu'Appelle Valley, Saskatchewan, Canada             & NA                                                  & NA                                                  & 3                                                  \\\\\n",
       "\t 2                                                   & 1                                                   & 1                                                   & Cumings, Mrs. John Bradley (Florence Briggs Thayer) & female                                              & 38                                                  & 1                                                   & 0                                                   & PC 17599                                            & 71.2833                                             & ...                                                 & C                                                   &  90                                                 & Cumings, Mrs. Florence Briggs (nÃ©e Thayer)         & 35                                                  & New York, New York, US                              & Cherbourg                                           & New York, New York, US                              & 4                                                   & \\#\\#\\#\\#                                        & 1                                                  \\\\\n",
       "\t 3                                                   & 1                                                   & 3                                                   & Heikkinen, Miss. Laina                              & female                                              & 26                                                  & 0                                                   & 0                                                   & STON/O2. 3101282                                    &  7.9250                                             & ...                                                 & S                                                   & 865                                                 & Heikkinen, Miss Laina                               & 26                                                  & JyvÃ¤skylÃ¤, Finland                                & Southampton                                         & New York City                                       & 14?                                                 & \\#\\#\\#\\#                                        & 3                                                  \\\\\n",
       "\t 4                                                   & 1                                                   & 1                                                   & Futrelle, Mrs. Jacques Heath (Lily May Peel)        & female                                              & 35                                                  & 1                                                   & 0                                                   & 113803                                              & 53.1000                                             & ...                                                 & S                                                   & 127                                                 & Futrelle, Mrs. Lily May (nÃ©e Peel)                 & 35                                                  & Scituate, Massachusetts, US                         & Southampton                                         & Scituate, Massachusetts, US                         & D                                                   & \\#\\#\\#\\#                                        & 1                                                  \\\\\n",
       "\t 5                                                   & 0                                                   & 3                                                   & Allen, Mr. William Henry                            & male                                                & 35                                                  & 0                                                   & 0                                                   & 373450                                              &  8.0500                                             & ...                                                 & S                                                   & 627                                                 & Allen, Mr. William Henry                            & 35                                                  & Birmingham, West Midlands, England                  & Southampton                                         & New York City                                       & NA                                                  & \\#\\#\\#\\#                                        & 3                                                  \\\\\n",
       "\t 6                                                   & 0                                                   & 3                                                   & Moran, Mr. James                                    & male                                                & NA                                                  & 0                                                   & 0                                                   & 330877                                              &  8.4583                                             & ...                                                 & Q                                                   & 785                                                 & Doherty, Mr. William John (aka \"James Moran\")       & 22                                                  & Cork, Ireland                                       & Queenstown                                          & New York City                                       & NA                                                  & \\#\\#\\#\\#                                        & 3                                                  \\\\\n",
       "\\end{tabular}\n"
      ],
      "text/markdown": [
       "\n",
       "| PassengerId | Survived | Pclass | Name | Sex | Age | SibSp | Parch | Ticket | Fare | ... | Embarked | WikiId | Name_wiki | Age_wiki | Hometown | Boarded | Destination | Lifeboat | Body | Class |\n",
       "|---|---|---|---|---|---|---|---|---|---|---|---|---|---|---|---|---|---|---|---|---|\n",
       "| 1                                                   | 0                                                   | 3                                                   | Braund, Mr. Owen Harris                             | male                                                | 22                                                  | 1                                                   | 0                                                   | A/5 21171                                           |  7.2500                                             | ...                                                 | S                                                   | 691                                                 | Braund, Mr. Owen Harris                             | 22                                                  | Bridgerule, Devon, England                          | Southampton                                         | Qu'Appelle Valley, Saskatchewan, Canada             | NA                                                  | NA                                                  | 3                                                   |\n",
       "| 2                                                   | 1                                                   | 1                                                   | Cumings, Mrs. John Bradley (Florence Briggs Thayer) | female                                              | 38                                                  | 1                                                   | 0                                                   | PC 17599                                            | 71.2833                                             | ...                                                 | C                                                   |  90                                                 | Cumings, Mrs. Florence Briggs (nÃ©e Thayer)         | 35                                                  | New York, New York, US                              | Cherbourg                                           | New York, New York, US                              | 4                                                   | ####                                                | 1                                                   |\n",
       "| 3                                                   | 1                                                   | 3                                                   | Heikkinen, Miss. Laina                              | female                                              | 26                                                  | 0                                                   | 0                                                   | STON/O2. 3101282                                    |  7.9250                                             | ...                                                 | S                                                   | 865                                                 | Heikkinen, Miss Laina                               | 26                                                  | JyvÃ¤skylÃ¤, Finland                                | Southampton                                         | New York City                                       | 14?                                                 | ####                                                | 3                                                   |\n",
       "| 4                                                   | 1                                                   | 1                                                   | Futrelle, Mrs. Jacques Heath (Lily May Peel)        | female                                              | 35                                                  | 1                                                   | 0                                                   | 113803                                              | 53.1000                                             | ...                                                 | S                                                   | 127                                                 | Futrelle, Mrs. Lily May (nÃ©e Peel)                 | 35                                                  | Scituate, Massachusetts, US                         | Southampton                                         | Scituate, Massachusetts, US                         | D                                                   | ####                                                | 1                                                   |\n",
       "| 5                                                   | 0                                                   | 3                                                   | Allen, Mr. William Henry                            | male                                                | 35                                                  | 0                                                   | 0                                                   | 373450                                              |  8.0500                                             | ...                                                 | S                                                   | 627                                                 | Allen, Mr. William Henry                            | 35                                                  | Birmingham, West Midlands, England                  | Southampton                                         | New York City                                       | NA                                                  | ####                                                | 3                                                   |\n",
       "| 6                                                   | 0                                                   | 3                                                   | Moran, Mr. James                                    | male                                                | NA                                                  | 0                                                   | 0                                                   | 330877                                              |  8.4583                                             | ...                                                 | Q                                                   | 785                                                 | Doherty, Mr. William John (aka \"James Moran\")       | 22                                                  | Cork, Ireland                                       | Queenstown                                          | New York City                                       | NA                                                  | ####                                                | 3                                                   |\n",
       "\n"
      ],
      "text/plain": [
       "  PassengerId Survived Pclass\n",
       "1 1           0        3     \n",
       "2 2           1        1     \n",
       "3 3           1        3     \n",
       "4 4           1        1     \n",
       "5 5           0        3     \n",
       "6 6           0        3     \n",
       "  Name                                                Sex    Age SibSp Parch\n",
       "1 Braund, Mr. Owen Harris                             male   22  1     0    \n",
       "2 Cumings, Mrs. John Bradley (Florence Briggs Thayer) female 38  1     0    \n",
       "3 Heikkinen, Miss. Laina                              female 26  0     0    \n",
       "4 Futrelle, Mrs. Jacques Heath (Lily May Peel)        female 35  1     0    \n",
       "5 Allen, Mr. William Henry                            male   35  0     0    \n",
       "6 Moran, Mr. James                                    male   NA  0     0    \n",
       "  Ticket           Fare    ... Embarked WikiId\n",
       "1 A/5 21171         7.2500 ... S        691   \n",
       "2 PC 17599         71.2833 ... C         90   \n",
       "3 STON/O2. 3101282  7.9250 ... S        865   \n",
       "4 113803           53.1000 ... S        127   \n",
       "5 373450            8.0500 ... S        627   \n",
       "6 330877            8.4583 ... Q        785   \n",
       "  Name_wiki                                     Age_wiki\n",
       "1 Braund, Mr. Owen Harris                       22      \n",
       "2 Cumings, Mrs. Florence Briggs (nÃ©e Thayer)   35      \n",
       "3 Heikkinen, Miss Laina                         26      \n",
       "4 Futrelle, Mrs. Lily May (nÃ©e Peel)           35      \n",
       "5 Allen, Mr. William Henry                      35      \n",
       "6 Doherty, Mr. William John (aka \"James Moran\") 22      \n",
       "  Hometown                           Boarded    \n",
       "1 Bridgerule, Devon, England         Southampton\n",
       "2 New York, New York, US             Cherbourg  \n",
       "3 JyvÃ¤skylÃ¤, Finland               Southampton\n",
       "4 Scituate, Massachusetts, US        Southampton\n",
       "5 Birmingham, West Midlands, England Southampton\n",
       "6 Cork, Ireland                      Queenstown \n",
       "  Destination                             Lifeboat Body Class\n",
       "1 Qu'Appelle Valley, Saskatchewan, Canada NA       NA   3    \n",
       "2 New York, New York, US                  4        #### 1    \n",
       "3 New York City                           14?      #### 3    \n",
       "4 Scituate, Massachusetts, US             D        #### 1    \n",
       "5 New York City                           NA       #### 3    \n",
       "6 New York City                           NA       #### 3    "
      ]
     },
     "metadata": {},
     "output_type": "display_data"
    }
   ],
   "source": [
    "head(df)"
   ]
  },
  {
   "cell_type": "code",
   "execution_count": 6,
   "id": "d78fd2fb",
   "metadata": {},
   "outputs": [
    {
     "data": {
      "text/html": [
       "<ol class=list-inline>\n",
       "\t<li>1309</li>\n",
       "\t<li>21</li>\n",
       "</ol>\n"
      ],
      "text/latex": [
       "\\begin{enumerate*}\n",
       "\\item 1309\n",
       "\\item 21\n",
       "\\end{enumerate*}\n"
      ],
      "text/markdown": [
       "1. 1309\n",
       "2. 21\n",
       "\n",
       "\n"
      ],
      "text/plain": [
       "[1] 1309   21"
      ]
     },
     "metadata": {},
     "output_type": "display_data"
    }
   ],
   "source": [
    "dim(df)"
   ]
  },
  {
   "cell_type": "code",
   "execution_count": 7,
   "id": "be188377",
   "metadata": {},
   "outputs": [
    {
     "data": {
      "text/html": [
       "1309"
      ],
      "text/latex": [
       "1309"
      ],
      "text/markdown": [
       "1309"
      ],
      "text/plain": [
       "[1] 1309"
      ]
     },
     "metadata": {},
     "output_type": "display_data"
    }
   ],
   "source": [
    "nrow(df)"
   ]
  },
  {
   "cell_type": "code",
   "execution_count": 8,
   "id": "905bf7cf",
   "metadata": {},
   "outputs": [
    {
     "data": {
      "text/html": [
       "21"
      ],
      "text/latex": [
       "21"
      ],
      "text/markdown": [
       "21"
      ],
      "text/plain": [
       "[1] 21"
      ]
     },
     "metadata": {},
     "output_type": "display_data"
    }
   ],
   "source": [
    "ncol(df)"
   ]
  },
  {
   "cell_type": "code",
   "execution_count": 9,
   "id": "417ff603",
   "metadata": {},
   "outputs": [
    {
     "data": {
      "text/html": [
       "<ol class=list-inline>\n",
       "\t<li>'PassengerId'</li>\n",
       "\t<li>'Survived'</li>\n",
       "\t<li>'Pclass'</li>\n",
       "\t<li>'Name'</li>\n",
       "\t<li>'Sex'</li>\n",
       "\t<li>'Age'</li>\n",
       "\t<li>'SibSp'</li>\n",
       "\t<li>'Parch'</li>\n",
       "\t<li>'Ticket'</li>\n",
       "\t<li>'Fare'</li>\n",
       "\t<li>'Cabin'</li>\n",
       "\t<li>'Embarked'</li>\n",
       "\t<li>'WikiId'</li>\n",
       "\t<li>'Name_wiki'</li>\n",
       "\t<li>'Age_wiki'</li>\n",
       "\t<li>'Hometown'</li>\n",
       "\t<li>'Boarded'</li>\n",
       "\t<li>'Destination'</li>\n",
       "\t<li>'Lifeboat'</li>\n",
       "\t<li>'Body'</li>\n",
       "\t<li>'Class'</li>\n",
       "</ol>\n"
      ],
      "text/latex": [
       "\\begin{enumerate*}\n",
       "\\item 'PassengerId'\n",
       "\\item 'Survived'\n",
       "\\item 'Pclass'\n",
       "\\item 'Name'\n",
       "\\item 'Sex'\n",
       "\\item 'Age'\n",
       "\\item 'SibSp'\n",
       "\\item 'Parch'\n",
       "\\item 'Ticket'\n",
       "\\item 'Fare'\n",
       "\\item 'Cabin'\n",
       "\\item 'Embarked'\n",
       "\\item 'WikiId'\n",
       "\\item 'Name\\_wiki'\n",
       "\\item 'Age\\_wiki'\n",
       "\\item 'Hometown'\n",
       "\\item 'Boarded'\n",
       "\\item 'Destination'\n",
       "\\item 'Lifeboat'\n",
       "\\item 'Body'\n",
       "\\item 'Class'\n",
       "\\end{enumerate*}\n"
      ],
      "text/markdown": [
       "1. 'PassengerId'\n",
       "2. 'Survived'\n",
       "3. 'Pclass'\n",
       "4. 'Name'\n",
       "5. 'Sex'\n",
       "6. 'Age'\n",
       "7. 'SibSp'\n",
       "8. 'Parch'\n",
       "9. 'Ticket'\n",
       "10. 'Fare'\n",
       "11. 'Cabin'\n",
       "12. 'Embarked'\n",
       "13. 'WikiId'\n",
       "14. 'Name_wiki'\n",
       "15. 'Age_wiki'\n",
       "16. 'Hometown'\n",
       "17. 'Boarded'\n",
       "18. 'Destination'\n",
       "19. 'Lifeboat'\n",
       "20. 'Body'\n",
       "21. 'Class'\n",
       "\n",
       "\n"
      ],
      "text/plain": [
       " [1] \"PassengerId\" \"Survived\"    \"Pclass\"      \"Name\"        \"Sex\"        \n",
       " [6] \"Age\"         \"SibSp\"       \"Parch\"       \"Ticket\"      \"Fare\"       \n",
       "[11] \"Cabin\"       \"Embarked\"    \"WikiId\"      \"Name_wiki\"   \"Age_wiki\"   \n",
       "[16] \"Hometown\"    \"Boarded\"     \"Destination\" \"Lifeboat\"    \"Body\"       \n",
       "[21] \"Class\"      "
      ]
     },
     "metadata": {},
     "output_type": "display_data"
    }
   ],
   "source": [
    "names(df)"
   ]
  },
  {
   "cell_type": "markdown",
   "id": "4185cc6e",
   "metadata": {},
   "source": [
    "### Installing neccessary packages"
   ]
  },
  {
   "cell_type": "code",
   "execution_count": 11,
   "id": "5029b946",
   "metadata": {},
   "outputs": [],
   "source": [
    "library(dplyr)\n",
    "library(ggcorrplot)\n",
    "library(DataExplorer)\n",
    "library(car)\n",
    "library(vtreat)\n",
    "library(janitor)\n",
    "library(tidyr)\n",
    "library(ggplot2)\n",
    "options(warn=0)"
   ]
  },
  {
   "cell_type": "markdown",
   "id": "6c0fe7a9",
   "metadata": {},
   "source": [
    "### Descriptive Statistics "
   ]
  },
  {
   "cell_type": "code",
   "execution_count": 12,
   "id": "e79b9ee6",
   "metadata": {},
   "outputs": [
    {
     "data": {
      "text/plain": [
       "  PassengerId      Survived          Pclass     \n",
       " Min.   :   1   Min.   :0.0000   Min.   :1.000  \n",
       " 1st Qu.: 328   1st Qu.:0.0000   1st Qu.:2.000  \n",
       " Median : 655   Median :0.0000   Median :3.000  \n",
       " Mean   : 655   Mean   :0.3838   Mean   :2.295  \n",
       " 3rd Qu.: 982   3rd Qu.:1.0000   3rd Qu.:3.000  \n",
       " Max.   :1309   Max.   :1.0000   Max.   :3.000  \n",
       "                NA's   :418                     \n",
       "                               Name          Sex           Age       \n",
       " Connolly, Miss. Kate            :   2   female:466   Min.   : 0.17  \n",
       " Kelly, Mr. James                :   2   male  :843   1st Qu.:21.00  \n",
       " Abbing, Mr. Anthony             :   1                Median :28.00  \n",
       " Abbott, Master. Eugene Joseph   :   1                Mean   :29.88  \n",
       " Abbott, Mr. Rossmore Edward     :   1                3rd Qu.:39.00  \n",
       " Abbott, Mrs. Stanton (Rosa Hunt):   1                Max.   :80.00  \n",
       " (Other)                         :1301                NA's   :263    \n",
       "     SibSp            Parch            Ticket          Fare        \n",
       " Min.   :0.0000   Min.   :0.000   CA. 2343:  11   Min.   :  0.000  \n",
       " 1st Qu.:0.0000   1st Qu.:0.000   1601    :   8   1st Qu.:  7.896  \n",
       " Median :0.0000   Median :0.000   CA 2144 :   8   Median : 14.454  \n",
       " Mean   :0.4989   Mean   :0.385   3101295 :   7   Mean   : 33.295  \n",
       " 3rd Qu.:1.0000   3rd Qu.:0.000   347077  :   7   3rd Qu.: 31.275  \n",
       " Max.   :8.0000   Max.   :9.000   347082  :   7   Max.   :512.329  \n",
       "                                  (Other) :1261   NA's   :1        \n",
       "             Cabin      Embarked       WikiId      \n",
       " C23 C25 C27    :   6   C   :270   Min.   :   1.0  \n",
       " B57 B59 B63 B66:   5   Q   :123   1st Qu.: 326.8  \n",
       " G6             :   5   S   :914   Median : 661.5  \n",
       " B96 B98        :   4   NA's:  2   Mean   : 658.5  \n",
       " C22 C26        :   4              3rd Qu.: 987.2  \n",
       " (Other)        : 271              Max.   :1314.0  \n",
       " NA's           :1014              NA's   :5       \n",
       "                     Name_wiki       Age_wiki    \n",
       " Kelly, Mr. James         :   2   Min.   : 0.17  \n",
       " Ã–dahl, Mr. Nils Martin  :   1   1st Qu.:21.00  \n",
       " Ã–hman, Miss Velin       :   1   Median :28.00  \n",
       " Abbing, Mr. Anthony      :   1   Mean   :29.42  \n",
       " Abbott, Mr. Eugene Joseph:   1   3rd Qu.:37.75  \n",
       " (Other)                  :1298   Max.   :74.00  \n",
       " NA's                     :   5   NA's   :7      \n",
       "                     Hometown           Boarded   \n",
       " New York, New York, US  :  70   Belfast    : 10  \n",
       " London, England         :  49   Cherbourg  :259  \n",
       " London, England, UK     :  30   Queenstown :119  \n",
       " Paris, France           :  23   Southampton:916  \n",
       " Montreal, Quebec, Canada:  20   NA's       :  5  \n",
       " (Other)                 :1112                    \n",
       " NA's                    :   5                    \n",
       "                   Destination     Lifeboat        Body          Class      \n",
       " New York City           :234   13     : 42   ??     :  17   Min.   :1.000  \n",
       " New York, New York, US  :127   C      : 41   @      :   9   1st Qu.:1.750  \n",
       " Chicago, Illinois, US   : 75   15     : 38   ?      :   6   Median :3.000  \n",
       " Montreal, Quebec, Canada: 37   14     : 34   #      :   5   Mean   :2.291  \n",
       " Detroit, Michigan, US   : 28   4      : 31   ####   :   5   3rd Qu.:3.000  \n",
       " (Other)                 :803   (Other):316   (Other): 130   Max.   :3.000  \n",
       " NA's                    :  5   NA's   :807   NA's   :1137   NA's   :5      "
      ]
     },
     "metadata": {},
     "output_type": "display_data"
    }
   ],
   "source": [
    "summary(df)"
   ]
  },
  {
   "cell_type": "markdown",
   "id": "0a4149be",
   "metadata": {},
   "source": [
    "Above summary gives us a lot of info about the descriptive stats of each variable specifically the numerical variables about their mean, median, Quantiles, etc. A lot of data in survived column is missing. More than 50% of the passengers belong to Class-3. Male passengers are almost twice that of female passengers. About 70% of the passengers boarded from Southampton. Likewise we can also identify the columns not useful from analysis point of view and also the reduntant columns."
   ]
  },
  {
   "cell_type": "markdown",
   "id": "aa992c4a",
   "metadata": {},
   "source": [
    "### Analysing missing information "
   ]
  },
  {
   "cell_type": "code",
   "execution_count": 13,
   "id": "df041f27",
   "metadata": {},
   "outputs": [
    {
     "data": {
      "text/html": [
       "<dl class=dl-horizontal>\n",
       "\t<dt>PassengerId</dt>\n",
       "\t\t<dd>0</dd>\n",
       "\t<dt>Survived</dt>\n",
       "\t\t<dd>418</dd>\n",
       "\t<dt>Pclass</dt>\n",
       "\t\t<dd>0</dd>\n",
       "\t<dt>Name</dt>\n",
       "\t\t<dd>0</dd>\n",
       "\t<dt>Sex</dt>\n",
       "\t\t<dd>0</dd>\n",
       "\t<dt>Age</dt>\n",
       "\t\t<dd>263</dd>\n",
       "\t<dt>SibSp</dt>\n",
       "\t\t<dd>0</dd>\n",
       "\t<dt>Parch</dt>\n",
       "\t\t<dd>0</dd>\n",
       "\t<dt>Ticket</dt>\n",
       "\t\t<dd>0</dd>\n",
       "\t<dt>Fare</dt>\n",
       "\t\t<dd>1</dd>\n",
       "\t<dt>Cabin</dt>\n",
       "\t\t<dd>1014</dd>\n",
       "\t<dt>Embarked</dt>\n",
       "\t\t<dd>2</dd>\n",
       "\t<dt>WikiId</dt>\n",
       "\t\t<dd>5</dd>\n",
       "\t<dt>Name_wiki</dt>\n",
       "\t\t<dd>5</dd>\n",
       "\t<dt>Age_wiki</dt>\n",
       "\t\t<dd>7</dd>\n",
       "\t<dt>Hometown</dt>\n",
       "\t\t<dd>5</dd>\n",
       "\t<dt>Boarded</dt>\n",
       "\t\t<dd>5</dd>\n",
       "\t<dt>Destination</dt>\n",
       "\t\t<dd>5</dd>\n",
       "\t<dt>Lifeboat</dt>\n",
       "\t\t<dd>807</dd>\n",
       "\t<dt>Body</dt>\n",
       "\t\t<dd>1137</dd>\n",
       "\t<dt>Class</dt>\n",
       "\t\t<dd>5</dd>\n",
       "</dl>\n"
      ],
      "text/latex": [
       "\\begin{description*}\n",
       "\\item[PassengerId] 0\n",
       "\\item[Survived] 418\n",
       "\\item[Pclass] 0\n",
       "\\item[Name] 0\n",
       "\\item[Sex] 0\n",
       "\\item[Age] 263\n",
       "\\item[SibSp] 0\n",
       "\\item[Parch] 0\n",
       "\\item[Ticket] 0\n",
       "\\item[Fare] 1\n",
       "\\item[Cabin] 1014\n",
       "\\item[Embarked] 2\n",
       "\\item[WikiId] 5\n",
       "\\item[Name\\textbackslash{}\\_wiki] 5\n",
       "\\item[Age\\textbackslash{}\\_wiki] 7\n",
       "\\item[Hometown] 5\n",
       "\\item[Boarded] 5\n",
       "\\item[Destination] 5\n",
       "\\item[Lifeboat] 807\n",
       "\\item[Body] 1137\n",
       "\\item[Class] 5\n",
       "\\end{description*}\n"
      ],
      "text/markdown": [
       "PassengerId\n",
       ":   0Survived\n",
       ":   418Pclass\n",
       ":   0Name\n",
       ":   0Sex\n",
       ":   0Age\n",
       ":   263SibSp\n",
       ":   0Parch\n",
       ":   0Ticket\n",
       ":   0Fare\n",
       ":   1Cabin\n",
       ":   1014Embarked\n",
       ":   2WikiId\n",
       ":   5Name_wiki\n",
       ":   5Age_wiki\n",
       ":   7Hometown\n",
       ":   5Boarded\n",
       ":   5Destination\n",
       ":   5Lifeboat\n",
       ":   807Body\n",
       ":   1137Class\n",
       ":   5\n",
       "\n"
      ],
      "text/plain": [
       "PassengerId    Survived      Pclass        Name         Sex         Age \n",
       "          0         418           0           0           0         263 \n",
       "      SibSp       Parch      Ticket        Fare       Cabin    Embarked \n",
       "          0           0           0           1        1014           2 \n",
       "     WikiId   Name_wiki    Age_wiki    Hometown     Boarded Destination \n",
       "          5           5           7           5           5           5 \n",
       "   Lifeboat        Body       Class \n",
       "        807        1137           5 "
      ]
     },
     "metadata": {},
     "output_type": "display_data"
    }
   ],
   "source": [
    "colSums(is.na(df))"
   ]
  },
  {
   "cell_type": "code",
   "execution_count": 14,
   "id": "5ec1a490",
   "metadata": {},
   "outputs": [
    {
     "data": {
      "image/png": "[encoded data removed]",
      "text/plain": [
       "plot without title"
      ]
     },
     "metadata": {},
     "output_type": "display_data"
    }
   ],
   "source": [
    "plot_missing(df)"
   ]
  },
  {
   "cell_type": "markdown",
   "id": "7e6209df",
   "metadata": {},
   "source": [
    "Age is having 20% missing values, so it can be dropped and Age_wiki can be used in place of it. Survived is an important column because it our center point of investigation, so despite 32% missing values, we will not drop it and use it further discarding the rows with NA values. Other columns with significant % if missing values i.e Lifeboat, Caboin and Body can be dropped in further analysis and can be treated through a seperate dataframe if required to analyse these parameters."
   ]
  },
  {
   "cell_type": "code",
   "execution_count": 15,
   "id": "4363b6ff",
   "metadata": {},
   "outputs": [],
   "source": [
    "#Conveting some numerical variables into their original nature that is categorical.\n",
    "\n",
    "df$Survived <- as.factor(df$Survived)\n",
    "df$Pclass <- as.factor(df$Pclass)"
   ]
  },
  {
   "cell_type": "code",
   "execution_count": 16,
   "id": "be446405",
   "metadata": {},
   "outputs": [
    {
     "name": "stdout",
     "output_type": "stream",
     "text": [
      "'data.frame':\t1309 obs. of  21 variables:\n",
      " $ PassengerId: int  1 2 3 4 5 6 7 8 9 10 ...\n",
      " $ Survived   : Factor w/ 2 levels \"0\",\"1\": 1 2 2 2 1 1 1 1 2 2 ...\n",
      " $ Pclass     : Factor w/ 3 levels \"1\",\"2\",\"3\": 3 1 3 1 3 3 1 3 3 2 ...\n",
      " $ Name       : Factor w/ 1307 levels \"Abbing, Mr. Anthony\",..: 156 287 531 430 23 826 775 922 613 855 ...\n",
      " $ Sex        : Factor w/ 2 levels \"female\",\"male\": 2 1 1 1 2 2 2 2 1 1 ...\n",
      " $ Age        : num  22 38 26 35 35 NA 54 2 27 14 ...\n",
      " $ SibSp      : int  1 1 0 1 0 0 0 3 0 1 ...\n",
      " $ Parch      : int  0 0 0 0 0 0 0 1 2 0 ...\n",
      " $ Ticket     : Factor w/ 929 levels \"110152\",\"110413\",..: 721 817 915 66 650 374 110 542 478 175 ...\n",
      " $ Fare       : num  7.25 71.28 7.92 53.1 8.05 ...\n",
      " $ Cabin      : Factor w/ 186 levels \"A10\",\"A11\",\"A14\",..: NA 107 NA 71 NA NA 164 NA NA NA ...\n",
      " $ Embarked   : Factor w/ 3 levels \"C\",\"Q\",\"S\": 3 1 3 3 3 2 3 3 3 1 ...\n",
      " $ WikiId     : int  691 90 865 127 627 785 200 1108 902 520 ...\n",
      " $ Name_wiki  : Factor w/ 1303 levels \"Ã–dahl, Mr. Nils Martin\",..: 195 321 547 452 26 373 788 929 631 869 ...\n",
      " $ Age_wiki   : num  22 35 26 35 35 22 54 2 26 14 ...\n",
      " $ Hometown   : Factor w/ 566 levels \"Ã–rebro, Sweden\",..: 77 364 266 441 61 128 149 66 464 563 ...\n",
      " $ Boarded    : Factor w/ 4 levels \"Belfast\",\"Cherbourg\",..: 4 2 4 4 4 3 4 4 4 2 ...\n",
      " $ Destination: Factor w/ 291 levels \"Aberdeen, South Dakota, US\",..: 216 186 185 241 185 185 72 56 249 59 ...\n",
      " $ Lifeboat   : Factor w/ 24 levels \"?\",\"1\",\"10\",\"11\",..: NA 14 8 24 NA NA NA NA 9 1 ...\n",
      " $ Body       : Factor w/ 135 levels \"#\",\"####\",\"?\",..: NA 2 2 2 2 2 42 4 4 4 ...\n",
      " $ Class      : int  3 1 3 1 3 3 1 3 3 2 ...\n"
     ]
    }
   ],
   "source": [
    "str(df)"
   ]
  },
  {
   "cell_type": "code",
   "execution_count": 17,
   "id": "44a4eeb1",
   "metadata": {},
   "outputs": [],
   "source": [
    "df1 <- select(df, -Age, -Lifeboat, -Cabin, -Body, -Class, -PassengerId)"
   ]
  },
  {
   "cell_type": "code",
   "execution_count": 18,
   "id": "797e4d4c",
   "metadata": {},
   "outputs": [
    {
     "data": {
      "text/html": [
       "<ol class=list-inline>\n",
       "\t<li>'Survived'</li>\n",
       "\t<li>'Pclass'</li>\n",
       "\t<li>'Name'</li>\n",
       "\t<li>'Sex'</li>\n",
       "\t<li>'SibSp'</li>\n",
       "\t<li>'Parch'</li>\n",
       "\t<li>'Ticket'</li>\n",
       "\t<li>'Fare'</li>\n",
       "\t<li>'Embarked'</li>\n",
       "\t<li>'WikiId'</li>\n",
       "\t<li>'Name_wiki'</li>\n",
       "\t<li>'Age_wiki'</li>\n",
       "\t<li>'Hometown'</li>\n",
       "\t<li>'Boarded'</li>\n",
       "\t<li>'Destination'</li>\n",
       "</ol>\n"
      ],
      "text/latex": [
       "\\begin{enumerate*}\n",
       "\\item 'Survived'\n",
       "\\item 'Pclass'\n",
       "\\item 'Name'\n",
       "\\item 'Sex'\n",
       "\\item 'SibSp'\n",
       "\\item 'Parch'\n",
       "\\item 'Ticket'\n",
       "\\item 'Fare'\n",
       "\\item 'Embarked'\n",
       "\\item 'WikiId'\n",
       "\\item 'Name\\_wiki'\n",
       "\\item 'Age\\_wiki'\n",
       "\\item 'Hometown'\n",
       "\\item 'Boarded'\n",
       "\\item 'Destination'\n",
       "\\end{enumerate*}\n"
      ],
      "text/markdown": [
       "1. 'Survived'\n",
       "2. 'Pclass'\n",
       "3. 'Name'\n",
       "4. 'Sex'\n",
       "5. 'SibSp'\n",
       "6. 'Parch'\n",
       "7. 'Ticket'\n",
       "8. 'Fare'\n",
       "9. 'Embarked'\n",
       "10. 'WikiId'\n",
       "11. 'Name_wiki'\n",
       "12. 'Age_wiki'\n",
       "13. 'Hometown'\n",
       "14. 'Boarded'\n",
       "15. 'Destination'\n",
       "\n",
       "\n"
      ],
      "text/plain": [
       " [1] \"Survived\"    \"Pclass\"      \"Name\"        \"Sex\"         \"SibSp\"      \n",
       " [6] \"Parch\"       \"Ticket\"      \"Fare\"        \"Embarked\"    \"WikiId\"     \n",
       "[11] \"Name_wiki\"   \"Age_wiki\"    \"Hometown\"    \"Boarded\"     \"Destination\""
      ]
     },
     "metadata": {},
     "output_type": "display_data"
    }
   ],
   "source": [
    "names(df1)"
   ]
  },
  {
   "cell_type": "code",
   "execution_count": 19,
   "id": "8853bf3e",
   "metadata": {},
   "outputs": [],
   "source": [
    "df2 <- mutate(df1,fam_size = 1+SibSp+Parch)"
   ]
  },
  {
   "cell_type": "code",
   "execution_count": 20,
   "id": "9e651cc9",
   "metadata": {},
   "outputs": [
    {
     "data": {
      "text/html": [
       "<ol class=list-inline>\n",
       "\t<li>'Survived'</li>\n",
       "\t<li>'Pclass'</li>\n",
       "\t<li>'Name'</li>\n",
       "\t<li>'Sex'</li>\n",
       "\t<li>'SibSp'</li>\n",
       "\t<li>'Parch'</li>\n",
       "\t<li>'Ticket'</li>\n",
       "\t<li>'Fare'</li>\n",
       "\t<li>'Embarked'</li>\n",
       "\t<li>'WikiId'</li>\n",
       "\t<li>'Name_wiki'</li>\n",
       "\t<li>'Age_wiki'</li>\n",
       "\t<li>'Hometown'</li>\n",
       "\t<li>'Boarded'</li>\n",
       "\t<li>'Destination'</li>\n",
       "\t<li>'fam_size'</li>\n",
       "</ol>\n"
      ],
      "text/latex": [
       "\\begin{enumerate*}\n",
       "\\item 'Survived'\n",
       "\\item 'Pclass'\n",
       "\\item 'Name'\n",
       "\\item 'Sex'\n",
       "\\item 'SibSp'\n",
       "\\item 'Parch'\n",
       "\\item 'Ticket'\n",
       "\\item 'Fare'\n",
       "\\item 'Embarked'\n",
       "\\item 'WikiId'\n",
       "\\item 'Name\\_wiki'\n",
       "\\item 'Age\\_wiki'\n",
       "\\item 'Hometown'\n",
       "\\item 'Boarded'\n",
       "\\item 'Destination'\n",
       "\\item 'fam\\_size'\n",
       "\\end{enumerate*}\n"
      ],
      "text/markdown": [
       "1. 'Survived'\n",
       "2. 'Pclass'\n",
       "3. 'Name'\n",
       "4. 'Sex'\n",
       "5. 'SibSp'\n",
       "6. 'Parch'\n",
       "7. 'Ticket'\n",
       "8. 'Fare'\n",
       "9. 'Embarked'\n",
       "10. 'WikiId'\n",
       "11. 'Name_wiki'\n",
       "12. 'Age_wiki'\n",
       "13. 'Hometown'\n",
       "14. 'Boarded'\n",
       "15. 'Destination'\n",
       "16. 'fam_size'\n",
       "\n",
       "\n"
      ],
      "text/plain": [
       " [1] \"Survived\"    \"Pclass\"      \"Name\"        \"Sex\"         \"SibSp\"      \n",
       " [6] \"Parch\"       \"Ticket\"      \"Fare\"        \"Embarked\"    \"WikiId\"     \n",
       "[11] \"Name_wiki\"   \"Age_wiki\"    \"Hometown\"    \"Boarded\"     \"Destination\"\n",
       "[16] \"fam_size\"   "
      ]
     },
     "metadata": {},
     "output_type": "display_data"
    }
   ],
   "source": [
    "names(df2)"
   ]
  },
  {
   "cell_type": "markdown",
   "id": "cb74156f",
   "metadata": {},
   "source": [
    "### Correlation analysis to understand the relationship between numerical variables  "
   ]
  },
  {
   "cell_type": "code",
   "execution_count": 21,
   "id": "d3839144",
   "metadata": {},
   "outputs": [],
   "source": [
    "df_omit <- na.omit(df2)\n",
    "df_num <- df_omit %>% select_if(is.numeric)"
   ]
  },
  {
   "cell_type": "code",
   "execution_count": 23,
   "id": "3e24a983",
   "metadata": {},
   "outputs": [],
   "source": [
    "library(GGally)"
   ]
  },
  {
   "cell_type": "code",
   "execution_count": 24,
   "id": "dc50be53",
   "metadata": {},
   "outputs": [
    {
     "data": {
      "image/png": "[encoded data removed]",
      "text/plain": [
       "plot without title"
      ]
     },
     "metadata": {},
     "output_type": "display_data"
    }
   ],
   "source": [
    "ggcorr(df_num,\n",
    "       nbreaks = 6,\n",
    "       label = TRUE,\n",
    "       label_size = 3,\n",
    "       color = 'grey50')"
   ]
  },
  {
   "cell_type": "markdown",
   "id": "926f651b",
   "metadata": {},
   "source": [
    "### Multivariate Analysis of Survival with respect to different dimensions\n",
    "### (Age, Gender, Passenger class)"
   ]
  },
  {
   "cell_type": "code",
   "execution_count": 25,
   "id": "58fda661",
   "metadata": {},
   "outputs": [
    {
     "data": {
      "image/png": "[encoded data removed]",
      "text/plain": [
       "plot without title"
      ]
     },
     "metadata": {},
     "output_type": "display_data"
    }
   ],
   "source": [
    "ggplot(df_omit)+aes(x=Age_wiki, colour=Survived, fill=Survived)+geom_histogram(bins=10)+facet_grid(Sex~Pclass)+theme_bw()+\n",
    "labs(title=\"Histogram Plot\",x=\"Age\",y=\"Passenger count\")"
   ]
  },
  {
   "cell_type": "markdown",
   "id": "df285c9a",
   "metadata": {},
   "source": [
    "This is four dimensional chart. We can observe that survival rate of children are highest. Females have comparatively higher survival rate than males. So we can definitely say \"Women and children first\". Also we can see that the females across all ages in first and second class, almost 98-99% survived but unfortunately not in third class. First Class passengers have higher survival rate but within that if the passenger is young or middle aged man, than the chances of survival is low. Third class has the lowest survival rate. So overall as the age increases, moving from female to male passengers and the passenger class goes from first to second to third, the survival rate decreases."
   ]
  },
  {
   "cell_type": "markdown",
   "id": "b3424f34",
   "metadata": {},
   "source": [
    "### Age distribution analysis with respect to survival and gender "
   ]
  },
  {
   "cell_type": "code",
   "execution_count": 26,
   "id": "01f2cc46",
   "metadata": {},
   "outputs": [
    {
     "data": {
      "image/png": "[encoded data removed]",
      "text/plain": [
       "plot without title"
      ]
     },
     "metadata": {},
     "output_type": "display_data"
    }
   ],
   "source": [
    "ggplot(df_omit)+aes(x=Survived, y=Age_wiki)+geom_boxplot()+facet_grid(Sex~Pclass)+theme_bw()+\n",
    "labs(title=\"Box & Whisker Plot\",x=\"Survived\",y=\"Age\")"
   ]
  },
  {
   "cell_type": "markdown",
   "id": "b1db403e",
   "metadata": {},
   "source": [
    "We can observe from the box plot above that for females in Pclass1, 50% of the perished people lie in the age 12-38 and survived in the age 25-45. Similar inferences can be drawn for males across different passenger class. The eye catching plot here is the males in the Pclass2, where there is wide dispersion of age for the survivors but the age distribution is rightly skewed. There is no significant skewness in other plots."
   ]
  },
  {
   "cell_type": "markdown",
   "id": "fa413136",
   "metadata": {},
   "source": [
    "### Analysis with respect to Boarding Location "
   ]
  },
  {
   "cell_type": "code",
   "execution_count": 27,
   "id": "037136ac",
   "metadata": {},
   "outputs": [
    {
     "data": {
      "image/png": "[encoded data removed]",
      "text/plain": [
       "plot without title"
      ]
     },
     "metadata": {},
     "output_type": "display_data"
    }
   ],
   "source": [
    "ggplot(df_omit)+aes(x=Sex, colour=Survived, fill=Survived)+geom_bar()+facet_grid(Embarked~Pclass)+theme_bw()+\n",
    "labs(title=\"Stacked Column Chart\",x=\"Sex\",y=\"Passenger count\")"
   ]
  },
  {
   "cell_type": "markdown",
   "id": "283c77a6",
   "metadata": {},
   "source": [
    "So highest number of passengers boarded from Southampton. Highest percentage of people boarding from Cherbourg travelled through Class1. Very few people boarded from Queenstown travelled in Class1 and 2. It is evident that highest number of people who perished were males travelling in Class3 from Southampton."
   ]
  },
  {
   "cell_type": "markdown",
   "id": "8832565c",
   "metadata": {},
   "source": [
    "### Analysis with respect to Family size "
   ]
  },
  {
   "cell_type": "code",
   "execution_count": 28,
   "id": "e6d26d6b",
   "metadata": {},
   "outputs": [
    {
     "data": {
      "image/png": "[encoded data removed]",
      "text/plain": [
       "plot without title"
      ]
     },
     "metadata": {},
     "output_type": "display_data"
    }
   ],
   "source": [
    "ggplot(df_omit)+aes(x=Age_wiki, y=fam_size, colour=Survived)+geom_jitter(size=2)+facet_grid(Sex~Pclass)+theme_bw()+\n",
    "labs(title=\"Scatter Plot\",x=\"Age\",y=\"Family Size\")"
   ]
  },
  {
   "cell_type": "markdown",
   "id": "c1cb7890",
   "metadata": {},
   "source": [
    "People belonging to family size of above 5 have mostly not survived. Most of the people in larger family are travelling through Class3. Most of the passengers are male travelling single. Most of the kids below age 10 are travelling in a family of 3 most probably accompanied by their parents and have survived.\n",
    "\n",
    "Please Note: We introduced a bit of jitter (randomness to family size data in terms of decimal pts) or else the family size would have been same whole no. for many passengers and the dots on the scatter plot would have overlapped completely. We only use jitter for visualization. Not for any statistical or machine learning."
   ]
  },
  {
   "cell_type": "code",
   "execution_count": 29,
   "id": "8b2179d8",
   "metadata": {},
   "outputs": [
    {
     "data": {
      "image/png": "[encoded data removed]",
      "text/plain": [
       "plot without title"
      ]
     },
     "metadata": {},
     "output_type": "display_data"
    }
   ],
   "source": [
    "ggplot(df_omit)+aes(x=Pclass, y=Fare, colour=Survived, shape=Sex)+geom_jitter(size=2)+theme_bw()+\n",
    "labs(title=\"Scatter Plot\",x=\"Pclass\",y=\"Fare\")"
   ]
  },
  {
   "cell_type": "markdown",
   "id": "cfa06265",
   "metadata": {},
   "source": [
    "We noticed that fares in Class 1 are significantly higher than other other class and most of the female passengers travelling through this class have survived. The fare values are highly scattered for class1 as compared to other two class, could be due to additional facilities and subdivisions in the first class services."
   ]
  },
  {
   "cell_type": "markdown",
   "id": "8bd76b78",
   "metadata": {},
   "source": [
    "### Analysing the life saving boats with the number of lives saved "
   ]
  },
  {
   "cell_type": "code",
   "execution_count": 30,
   "id": "0485bb97",
   "metadata": {},
   "outputs": [
    {
     "data": {
      "image/png": "[encoded data removed]",
      "text/plain": [
       "plot without title"
      ]
     },
     "metadata": {},
     "output_type": "display_data"
    }
   ],
   "source": [
    "df_life <- filter(df, Lifeboat != \"NA\", Survived != \"NA\")\n",
    "\n",
    "ggplot(df_life)+aes(x=Lifeboat, colour=Survived, fill=Survived)+geom_bar()+theme_bw()+\n",
    "labs(title=\"Stacked Column Chart\",x=\"Boat No.\",y=\"Passenger count\")"
   ]
  },
  {
   "cell_type": "markdown",
   "id": "b05b2dda",
   "metadata": {},
   "source": [
    "Above chart shows that all the life boats listed in the dataset, saved atleast one passenger. Mostly saved 10+ passengers. Life boat 13, 15 and C saved the most, more than 25+ passengers each. Some passengers on the boat 10, 14 and A could not survive. "
   ]
  },
  {
   "cell_type": "code",
   "execution_count": 31,
   "id": "48b89794",
   "metadata": {},
   "outputs": [],
   "source": [
    "#Title and surname extraction\n",
    "#From the list of given names we are extracting the title from all the names\n",
    "#Here, we are also using regular expressions to clean the extraneous characters in the Title column."
   ]
  },
  {
   "cell_type": "code",
   "execution_count": 32,
   "id": "5a93daa8",
   "metadata": {},
   "outputs": [
    {
     "data": {
      "text/plain": [
       "        \n",
       "         Capt Col Don Dona  Dr Jonkheer Lady Major Master Miss Mlle Mme  Mr Mrs\n",
       "  female    0   0   0    1   1        0    1     0      0  260    2   1   0 197\n",
       "  male      1   4   1    0   7        1    0     2     61    0    0   0 757   0\n",
       "        \n",
       "          Ms Rev Sir the Countess\n",
       "  female   2   0   0            1\n",
       "  male     0   8   1            0"
      ]
     },
     "metadata": {},
     "output_type": "display_data"
    }
   ],
   "source": [
    "df1$Title <- gsub(\"(.*, )|(\\\\..*)\",\"\",df1$Name)\n",
    "table(df1$Sex, df1$Title)"
   ]
  },
  {
   "cell_type": "code",
   "execution_count": 33,
   "id": "4a21999d",
   "metadata": {},
   "outputs": [
    {
     "data": {
      "text/plain": [
       "        \n",
       "         Master Misc Title Miss  Mr Mrs\n",
       "  female      0          4  264   0 198\n",
       "  male       61         25    0 757   0"
      ]
     },
     "metadata": {},
     "output_type": "display_data"
    }
   ],
   "source": [
    "# Title with very low cell counts is combined in \"Misc\" type\n",
    "rareTitle <- c(\"Dona\", \"Lady\",\"the Countess\", \"Capt\", \"Col\", \"Don\", \"Dr\", \"Major\", \"Rev\", \"Sir\", \"Jonkheer\")\n",
    "\n",
    "# Also reassign \"Mlle\", \"Mme\" and \"Ms\" accordingly\n",
    "df1$Title[df1$Title == \"Mlle\"] <- \"Miss\"\n",
    "df1$Title[df1$Title == \"Ms\"] <- \"Miss\"\n",
    "df1$Title[df1$Title == \"Mme\"] <- \"Mrs\"\n",
    "df1$Title[df1$Title %in% rareTitle] <- \"Misc Title\"\n",
    "\n",
    "# Show Title Counts by Sex again\n",
    "table(df1$Sex, df1$Title)"
   ]
  },
  {
   "cell_type": "markdown",
   "id": "18d17580",
   "metadata": {},
   "source": [
    "### Statistical Testing "
   ]
  },
  {
   "cell_type": "code",
   "execution_count": 34,
   "id": "f8aa326f",
   "metadata": {},
   "outputs": [],
   "source": [
    "#Performing chi square test on the data\n",
    "#Null hypothesis : Title of the passengers and survival chances are dependent in nature."
   ]
  },
  {
   "cell_type": "code",
   "execution_count": 35,
   "id": "26e1bbb8",
   "metadata": {},
   "outputs": [
    {
     "name": "stdout",
     "output_type": "stream",
     "text": [
      "            \n",
      "               0   1\n",
      "  Master      17  23\n",
      "  Misc Title  15   8\n",
      "  Miss        55 130\n",
      "  Mr         436  81\n",
      "  Mrs         26 100\n"
     ]
    }
   ],
   "source": [
    "stats_df1 <- data.frame(df1$Title, df1$Fare)\n",
    "\n",
    "# Create a table with the needed variables.\n",
    "table_df1 <- table(df1$Title, df1$Survived) \n",
    "print(table_df1)"
   ]
  },
  {
   "cell_type": "code",
   "execution_count": 36,
   "id": "9d486a0b",
   "metadata": {},
   "outputs": [
    {
     "name": "stdout",
     "output_type": "stream",
     "text": [
      "\n",
      "\tPearson's Chi-squared test\n",
      "\n",
      "data:  table_df1\n",
      "X-squared = 288.12, df = 4, p-value < 2.2e-16\n",
      "\n"
     ]
    }
   ],
   "source": [
    "print(chisq.test(table_df1))"
   ]
  },
  {
   "cell_type": "markdown",
   "id": "8d3058c8",
   "metadata": {},
   "source": [
    "As the p value comes out to be less than 0.05 we reject the null hypothesis. Hence the Title has no impact on the survival of the passengers."
   ]
  },
  {
   "cell_type": "code",
   "execution_count": null,
   "id": "c70b44ed",
   "metadata": {},
   "outputs": [],
   "source": []
  }
 ],
 "metadata": {
  "kernelspec": {
   "display_name": "R",
   "language": "R",
   "name": "ir"
  },
  "language_info": {
   "codemirror_mode": "r",
   "file_extension": ".r",
   "mimetype": "text/x-r-source",
   "name": "R",
   "pygments_lexer": "r",
   "version": "3.6.1"
  }
 },
 "nbformat": 4,
 "nbformat_minor": 5
}
